{
 "cells": [
  {
   "cell_type": "code",
   "execution_count": 1,
   "metadata": {},
   "outputs": [
    {
     "name": "stderr",
     "output_type": "stream",
     "text": [
      "\u001b[32m\u001b[1m Activating\u001b[22m\u001b[39m environment at `~/.julia/dev/MClassifier/Project.toml`\n",
      "┌ Info: Precompiling MClassification [7aadbe48-82bb-4990-b1ce-71777a0f3ceb]\n",
      "└ @ Base loading.jl:1260\n"
     ]
    },
    {
     "data": {
      "text/plain": [
       "load_sample (generic function with 1 method)"
      ]
     },
     "execution_count": 1,
     "metadata": {},
     "output_type": "execute_result"
    }
   ],
   "source": [
    "###Importing dependencies\n",
    "using Pkg\n",
    "Pkg.activate(\"../\")\n",
    "using DataFrames, MClassification\n",
    "include(\"../src/io.jl\")"
   ]
  },
  {
   "cell_type": "code",
   "execution_count": 2,
   "metadata": {},
   "outputs": [
    {
     "data": {
      "text/plain": [
       "16-element Array{SubString{String},1}:\n",
       " \"1CDT.txt\"\n",
       " \"1CHT.txt\"\n",
       " \"1CSurr.txt\"\n",
       " \"2CDT.txt\"\n",
       " \"2CHT.txt\"\n",
       " \"4CE1CF.txt\"\n",
       " \"4CRE-V1.txt\"\n",
       " \"4CRE-V2.txt\"\n",
       " \"4CR.txt\"\n",
       " \"5CVT.txt\"\n",
       " \"FG_2C_2D.txt\"\n",
       " \"GEARS_2C_2D.txt\"\n",
       " \"MG_2C_2D.txt\"\n",
       " \"UG_2C_2D.txt\"\n",
       " \"UG_2C_3D.txt\"\n",
       " \"UG_2C_5D.txt\""
      ]
     },
     "execution_count": 2,
     "metadata": {},
     "output_type": "execute_result"
    }
   ],
   "source": [
    "###Setting path of the datasets and getting their names\n",
    "path = \"../datasets/sinthetic/\"\n",
    "datasets = split(read(`ls $path`, String), \"\\n\")[1:end-1]\n"
   ]
  },
  {
   "cell_type": "code",
   "execution_count": 3,
   "metadata": {},
   "outputs": [
    {
     "name": "stdout",
     "output_type": "stream",
     "text": [
      "2×4 DataFrame\n",
      "│ Row │ dataset   │ n_initial_instances │ n_samples │ accuracy │\n",
      "│     │ \u001b[90mSubStrin…\u001b[39m │ \u001b[90mInt64\u001b[39m               │ \u001b[90mInt64\u001b[39m     │ \u001b[90mFloat64\u001b[39m  │\n",
      "├─────┼───────────┼─────────────────────┼───────────┼──────────┤\n",
      "│ 1   │ 1CDT.txt  │ 150                 │ 15850     │ 99.83    │\n",
      "│ 2   │ 1CHT.txt  │ 150                 │ 15850     │ 99.24    │\n"
     ]
    }
   ],
   "source": [
    "dataset_results = DataFrame()\n",
    "for dataset in datasets[1:2]\n",
    "    n_instances = 0\n",
    "    hits = 0\n",
    "    misses = 0\n",
    "    dataset_file = open(path * dataset , \"r\")\n",
    "    \n",
    "    \n",
    "    classifier = MClassification.fit(dataset_file, 150, 0.1)\n",
    "\n",
    "    while true\n",
    "        sample = load_sample(dataset_file)\n",
    "        if sample == \"\"\n",
    "            break\n",
    "        end\n",
    "        n_instances += 1\n",
    "\n",
    "        new_instance = sample[1:end-1]\n",
    "        real_label = sample[end]\n",
    "\n",
    "        predicted_label = MClassification.predict(classifier, new_instance)\n",
    "\n",
    "        if real_label == predicted_label\n",
    "            hits += 1\n",
    "        else\n",
    "            misses += 1\n",
    "        end\n",
    "    end\n",
    "\n",
    "    x = hits / n_instances\n",
    "\n",
    "    dataset_result = DataFrame(dataset =  dataset, n_initial_instances = 150 ,n_samples = n_instances, accuracy = round(x * 100, digits=2, RoundDown))\n",
    "    append!(dataset_results, dataset_result)\n",
    "end\n",
    "println(dataset_results)\n"
   ]
  },
  {
   "cell_type": "code",
   "execution_count": null,
   "metadata": {},
   "outputs": [],
   "source": []
  }
 ],
 "metadata": {
  "kernelspec": {
   "display_name": "Julia 1.4.0",
   "language": "julia",
   "name": "julia-1.4"
  },
  "language_info": {
   "file_extension": ".jl",
   "mimetype": "application/julia",
   "name": "julia",
   "version": "1.4.0"
  }
 },
 "nbformat": 4,
 "nbformat_minor": 2
}
