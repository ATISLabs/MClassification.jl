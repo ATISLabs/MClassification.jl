{
 "cells": [
  {
   "cell_type": "code",
   "execution_count": 1,
   "metadata": {},
   "outputs": [
    {
     "name": "stderr",
     "output_type": "stream",
     "text": [
      "\u001b[32m\u001b[1m Activating\u001b[22m\u001b[39m environment at `~/.julia/dev/MClassifier/Project.toml`\n"
     ]
    }
   ],
   "source": [
    "###Importing dependencies\n",
    "using Pkg\n",
    "Pkg.activate(\"../\")\n",
    "using DataFrames, MClassification, Queryverse;"
   ]
  },
  {
   "cell_type": "code",
   "execution_count": 2,
   "metadata": {},
   "outputs": [],
   "source": [
    "###Setting path of the datasets and getting their names\n",
    "path = \"../datasets/sinthetic/\"\n",
    "datasets = split(read(`ls $path`, String), \"\\n\")[1:end-1];\n"
   ]
  },
  {
   "cell_type": "code",
   "execution_count": 6,
   "metadata": {},
   "outputs": [],
   "source": [
    "model = MClassification.MClassifier(r_limit=0.1)\n",
    "dataset_results = DataFrame()\n",
    "train_indexes = 1:150\n",
    "for dataset_name in datasets\n",
    "    ###Loading the dataset\n",
    "    dataset = Queryverse.load(path * dataset_name, header_exists=false) |> DataFrame;\n",
    "    \n",
    "    ###Setting the data\n",
    "    X = dataset[:,1:end-1]\n",
    "    y = MClassification.categorical(dataset[:,end])\n",
    "    \n",
    "    test_indexes = 151:MClassification.nrows(X)\n",
    "    \n",
    "    classifier        = MClassification.machine(model, X, y)\n",
    "    evaluation_result = MClassification.evaluate!(classifier, resampling=[(train_indexes, test_indexes)], measure=MClassification.accuracy)\n",
    "    dataset_result = DataFrame(dataset =  dataset_name, n_initial_instances = 150, n_samples = MClassification.nrows(X), accuracy = evaluation_result[:measurement][1] * 100)\n",
    "    \n",
    "    append!(dataset_results, dataset_result)\n",
    "    \n",
    "end"
   ]
  },
  {
   "cell_type": "code",
   "execution_count": 7,
   "metadata": {},
   "outputs": [
    {
     "name": "stdout",
     "output_type": "stream",
     "text": [
      "16×4 DataFrame\n",
      "│ Row │ dataset         │ n_initial_instances │ n_samples │ accuracy │\n",
      "│     │ \u001b[90mSubStrin…\u001b[39m       │ \u001b[90mInt64\u001b[39m               │ \u001b[90mInt64\u001b[39m     │ \u001b[90mFloat64\u001b[39m  │\n",
      "├─────┼─────────────────┼─────────────────────┼───────────┼──────────┤\n",
      "│ 1   │ 1CDT.csv        │ 150                 │ 16000     │ 99.8486  │\n",
      "│ 2   │ 1CHT.csv        │ 150                 │ 16000     │ 99.1798  │\n",
      "│ 3   │ 1CSurr.csv      │ 150                 │ 55283     │ 85.5005  │\n",
      "│ 4   │ 2CDT.csv        │ 150                 │ 16000     │ 94.4795  │\n",
      "│ 5   │ 2CHT.csv        │ 150                 │ 16000     │ 87.7539  │\n",
      "│ 6   │ 4CE1CF.csv      │ 150                 │ 173250    │ 91.8637  │\n",
      "│ 7   │ 4CR.csv         │ 150                 │ 144400    │ 98.7369  │\n",
      "│ 8   │ 4CRE-V1.csv     │ 150                 │ 125000    │ 90.978   │\n",
      "│ 9   │ 4CRE-V2.csv     │ 150                 │ 183000    │ 90.4578  │\n",
      "│ 10  │ 5CVT.csv        │ 150                 │ 24000     │ 86.1384  │\n",
      "│ 11  │ FG_2C_2D.csv    │ 150                 │ 200000    │ 56.659   │\n",
      "│ 12  │ GEARS_2C_2D.csv │ 150                 │ 200000    │ 94.3247  │\n",
      "│ 13  │ MG_2C_2D.csv    │ 150                 │ 200000    │ 53.379   │\n",
      "│ 14  │ UG_2C_2D.csv    │ 150                 │ 100000    │ 94.9444  │\n",
      "│ 15  │ UG_2C_3D.csv    │ 150                 │ 200000    │ 94.3202  │\n",
      "│ 16  │ UG_2C_5D.csv    │ 150                 │ 200000    │ 91.0923  │\n"
     ]
    }
   ],
   "source": [
    "println(dataset_results)"
   ]
  }
 ],
 "metadata": {
  "kernelspec": {
   "display_name": "Julia 1.4.0",
   "language": "julia",
   "name": "julia-1.4"
  },
  "language_info": {
   "file_extension": ".jl",
   "mimetype": "application/julia",
   "name": "julia",
   "version": "1.4.0"
  }
 },
 "nbformat": 4,
 "nbformat_minor": 2
}
