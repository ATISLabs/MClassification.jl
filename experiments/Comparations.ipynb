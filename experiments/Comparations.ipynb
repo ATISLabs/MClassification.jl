{
 "cells": [
  {
   "cell_type": "code",
   "execution_count": 1,
   "metadata": {},
   "outputs": [
    {
     "name": "stderr",
     "output_type": "stream",
     "text": [
      "\u001b[32m\u001b[1m Activating\u001b[22m\u001b[39m environment at `~/.julia/dev/MClassifier/Project.toml`\n",
      "┌ Info: Precompiling MClassification [7aadbe48-82bb-4990-b1ce-71777a0f3ceb]\n",
      "└ @ Base loading.jl:1260\n",
      "┌ Warning: Package MClassification does not have DataFrames in its dependencies:\n",
      "│ - If you have MClassification checked out for development and have\n",
      "│   added DataFrames as a dependency but haven't updated your primary\n",
      "│   environment's manifest file, try `Pkg.resolve()`.\n",
      "│ - Otherwise you may need to report an issue with MClassification\n",
      "└ Loading DataFrames into MClassification from project dependency, future warnings for MClassification are suppressed.\n",
      "┌ Info: Precompiling MLJ [add582a8-e3ab-11e8-2d5e-e98b27df1bc7]\n",
      "└ @ Base loading.jl:1260\n",
      "[ Info: Model metadata loaded from registry. \n"
     ]
    },
    {
     "data": {
      "text/plain": [
       "load_sample (generic function with 1 method)"
      ]
     },
     "execution_count": 1,
     "metadata": {},
     "output_type": "execute_result"
    }
   ],
   "source": [
    "###Importing dependencies\n",
    "using Pkg\n",
    "Pkg.activate(\"../\")\n",
    "using DataFrames, MClassification, MLJ, Queryverse, Plots\n",
    "include(\"../src/io.jl\")"
   ]
  },
  {
   "cell_type": "code",
   "execution_count": 2,
   "metadata": {
    "scrolled": false
   },
   "outputs": [
    {
     "data": {
      "text/plain": [
       "┌\u001b[0m─────────\u001b[0m┬\u001b[0m─────────\u001b[0m┬\u001b[0m────────────\u001b[0m┐\u001b[0m\n",
       "│\u001b[0m\u001b[22m _.names \u001b[0m│\u001b[0m\u001b[22m _.types \u001b[0m│\u001b[0m\u001b[22m _.scitypes \u001b[0m│\u001b[0m\n",
       "├\u001b[0m─────────\u001b[0m┼\u001b[0m─────────\u001b[0m┼\u001b[0m────────────\u001b[0m┤\u001b[0m\n",
       "│\u001b[0m Column1 \u001b[0m│\u001b[0m Float64 \u001b[0m│\u001b[0m Continuous \u001b[0m│\u001b[0m\n",
       "│\u001b[0m Column2 \u001b[0m│\u001b[0m Float64 \u001b[0m│\u001b[0m Continuous \u001b[0m│\u001b[0m\n",
       "│\u001b[0m Column3 \u001b[0m│\u001b[0m Float64 \u001b[0m│\u001b[0m Continuous \u001b[0m│\u001b[0m\n",
       "│\u001b[0m Column4 \u001b[0m│\u001b[0m Float64 \u001b[0m│\u001b[0m Continuous \u001b[0m│\u001b[0m\n",
       "│\u001b[0m Column5 \u001b[0m│\u001b[0m Float64 \u001b[0m│\u001b[0m Continuous \u001b[0m│\u001b[0m\n",
       "│\u001b[0m Column6 \u001b[0m│\u001b[0m Int64   \u001b[0m│\u001b[0m Count      \u001b[0m│\u001b[0m\n",
       "└\u001b[0m─────────\u001b[0m┴\u001b[0m─────────\u001b[0m┴\u001b[0m────────────\u001b[0m┘\u001b[0m\n",
       "_.nrows = 200000\n"
      ]
     },
     "execution_count": 2,
     "metadata": {},
     "output_type": "execute_result"
    }
   ],
   "source": [
    "###Setting path of the datasets and getting their names\n",
    "path = \"../datasets/sinthetic/\"\n",
    "datasets = split(read(`ls $path`, String), \"\\n\")[1:end-1]\n",
    "dados = Queryverse.load(path * datasets[end], header_exists=false) |> DataFrame\n",
    "schema(dados)"
   ]
  },
  {
   "cell_type": "code",
   "execution_count": 32,
   "metadata": {},
   "outputs": [
    {
     "name": "stderr",
     "output_type": "stream",
     "text": [
      "┌ Info: A model type \"KNNClassifier\" is already loaded. \n",
      "│ No new code loaded. \n",
      "└ @ MLJModels /home/coiote/.julia/packages/MLJModels/zduEi/src/loading.jl:43\n",
      "┌ Info: Training \u001b[34mMachine{KNNClassifier} @ 1…18\u001b[39m.\n",
      "└ @ MLJBase /home/coiote/.julia/packages/MLJBase/uJ1jK/src/machines.jl:182\n"
     ]
    },
    {
     "name": "stdout",
     "output_type": "stream",
     "text": [
      "199850"
     ]
    },
    {
     "data": {
      "text/plain": [
       "0"
      ]
     },
     "execution_count": 32,
     "metadata": {},
     "output_type": "execute_result"
    }
   ],
   "source": [
    "@load KNNClassifier\n",
    "\n",
    "y = dados[:,end]\n",
    "X = dados[:,1:end-1]\n",
    "training_set_size = 150\n",
    "y_predicted = [Array{Any, 1}() for i in 1:2]\n",
    "\n",
    "###KNN\n",
    "knn = KNNClassifier(K=3)\n",
    "knn = MLJ.machine(knn, X, coerce(y, autotype(y)))\n",
    "train = collect(1:training_set_size)\n",
    "test = collect(training_set_size+1:length(y))\n",
    "MLJ.fit!(knn, rows=train)\n",
    "y_predicted[1] = predict_mode(knn, rows=test)\n",
    "\n",
    "###MClassification\n",
    "mClassifier = MClassification.fit(X[1:150, :], y[1:150], 0.1)\n",
    "y_predicted[2] = MClassification.predict(mClassifier, convert(Array{Float64, 2}, X[151:end, :]))\n",
    "\n",
    "n_instances = 0"
   ]
  },
  {
   "cell_type": "code",
   "execution_count": 71,
   "metadata": {},
   "outputs": [
    {
     "data": {
      "text/plain": [
       "199850"
      ]
     },
     "execution_count": 71,
     "metadata": {},
     "output_type": "execute_result"
    }
   ],
   "source": [
    "length(y_predicted[1])"
   ]
  },
  {
   "cell_type": "code",
   "execution_count": 73,
   "metadata": {},
   "outputs": [],
   "source": [
    "hates = [Array{Float64, 1}() for i in 1:2]\n",
    "hits = zeros(Int64, 2)\n",
    "\n",
    "for i in 1:length(y_predicted[2]) \n",
    "    n_instances += 1\n",
    "    \n",
    "    if y[i+150] == y_predicted[1][i]\n",
    "        hits[1] += 1\n",
    "    end\n",
    "        \n",
    "    if y[i+150] == y_predicted[2][i]\n",
    "        hits[2] += 1\n",
    "    end\n",
    "    \n",
    "    if n_instances % 2000 == 0\n",
    "            append!(hates[1], hits[1] / 2000)\n",
    "            append!(hates[2], hits[2] / 2000)\n",
    "            hits[1] = 0\n",
    "            hits[2] = 0\n",
    "        \n",
    "    end\n",
    "end\n",
    "\n",
    "\n",
    "\n",
    "    \n"
   ]
  },
  {
   "cell_type": "code",
   "execution_count": 86,
   "metadata": {},
   "outputs": [
    {
     "data": {
      "image/svg+xml": [
       "<?xml version=\"1.0\" encoding=\"utf-8\"?>\n",
       "<svg xmlns=\"http://www.w3.org/2000/svg\" xmlns:xlink=\"http://www.w3.org/1999/xlink\" width=\"600\" height=\"400\" viewBox=\"0 0 2400 1600\">\n",
       "<defs>\n",
       "  <clipPath id=\"clip4100\">\n",
       "    <rect x=\"0\" y=\"0\" width=\"2400\" height=\"1600\"/>\n",
       "  </clipPath>\n",
       "</defs>\n",
       "<path clip-path=\"url(#clip4100)\" d=\"\n",
       "M0 1600 L2400 1600 L2400 0 L0 0  Z\n",
       "  \" fill=\"#ffffff\" fill-rule=\"evenodd\" fill-opacity=\"1\"/>\n",
       "<defs>\n",
       "  <clipPath id=\"clip4101\">\n",
       "    <rect x=\"480\" y=\"0\" width=\"1681\" height=\"1600\"/>\n",
       "  </clipPath>\n",
       "</defs>\n",
       "<path clip-path=\"url(#clip4100)\" d=\"\n",
       "M153.898 1487.47 L1741.15 1487.47 L1741.15 47.2441 L153.898 47.2441  Z\n",
       "  \" fill=\"#ffffff\" fill-rule=\"evenodd\" fill-opacity=\"1\"/>\n",
       "<defs>\n",
       "  <clipPath id=\"clip4102\">\n",
       "    <rect x=\"153\" y=\"47\" width=\"1588\" height=\"1441\"/>\n",
       "  </clipPath>\n",
       "</defs>\n",
       "<polyline clip-path=\"url(#clip4102)\" style=\"stroke:#000000; stroke-width:2; stroke-opacity:0.1; fill:none\" points=\"\n",
       "  183.695,1487.47 183.695,47.2441 \n",
       "  \"/>\n",
       "<polyline clip-path=\"url(#clip4102)\" style=\"stroke:#000000; stroke-width:2; stroke-opacity:0.1; fill:none\" points=\"\n",
       "  561.829,1487.47 561.829,47.2441 \n",
       "  \"/>\n",
       "<polyline clip-path=\"url(#clip4102)\" style=\"stroke:#000000; stroke-width:2; stroke-opacity:0.1; fill:none\" points=\"\n",
       "  939.963,1487.47 939.963,47.2441 \n",
       "  \"/>\n",
       "<polyline clip-path=\"url(#clip4102)\" style=\"stroke:#000000; stroke-width:2; stroke-opacity:0.1; fill:none\" points=\"\n",
       "  1318.1,1487.47 1318.1,47.2441 \n",
       "  \"/>\n",
       "<polyline clip-path=\"url(#clip4102)\" style=\"stroke:#000000; stroke-width:2; stroke-opacity:0.1; fill:none\" points=\"\n",
       "  1696.23,1487.47 1696.23,47.2441 \n",
       "  \"/>\n",
       "<polyline clip-path=\"url(#clip4102)\" style=\"stroke:#000000; stroke-width:2; stroke-opacity:0.1; fill:none\" points=\"\n",
       "  153.898,1487.47 1741.15,1487.47 \n",
       "  \"/>\n",
       "<polyline clip-path=\"url(#clip4102)\" style=\"stroke:#000000; stroke-width:2; stroke-opacity:0.1; fill:none\" points=\"\n",
       "  153.898,1199.43 1741.15,1199.43 \n",
       "  \"/>\n",
       "<polyline clip-path=\"url(#clip4102)\" style=\"stroke:#000000; stroke-width:2; stroke-opacity:0.1; fill:none\" points=\"\n",
       "  153.898,911.382 1741.15,911.382 \n",
       "  \"/>\n",
       "<polyline clip-path=\"url(#clip4102)\" style=\"stroke:#000000; stroke-width:2; stroke-opacity:0.1; fill:none\" points=\"\n",
       "  153.898,623.336 1741.15,623.336 \n",
       "  \"/>\n",
       "<polyline clip-path=\"url(#clip4102)\" style=\"stroke:#000000; stroke-width:2; stroke-opacity:0.1; fill:none\" points=\"\n",
       "  153.898,335.29 1741.15,335.29 \n",
       "  \"/>\n",
       "<polyline clip-path=\"url(#clip4102)\" style=\"stroke:#000000; stroke-width:2; stroke-opacity:0.1; fill:none\" points=\"\n",
       "  153.898,47.2441 1741.15,47.2441 \n",
       "  \"/>\n",
       "<polyline clip-path=\"url(#clip4100)\" style=\"stroke:#000000; stroke-width:4; stroke-opacity:1; fill:none\" points=\"\n",
       "  153.898,1487.47 1741.15,1487.47 \n",
       "  \"/>\n",
       "<polyline clip-path=\"url(#clip4100)\" style=\"stroke:#000000; stroke-width:4; stroke-opacity:1; fill:none\" points=\"\n",
       "  153.898,1487.47 153.898,47.2441 \n",
       "  \"/>\n",
       "<polyline clip-path=\"url(#clip4100)\" style=\"stroke:#000000; stroke-width:4; stroke-opacity:1; fill:none\" points=\"\n",
       "  183.695,1487.47 183.695,1470.19 \n",
       "  \"/>\n",
       "<polyline clip-path=\"url(#clip4100)\" style=\"stroke:#000000; stroke-width:4; stroke-opacity:1; fill:none\" points=\"\n",
       "  561.829,1487.47 561.829,1470.19 \n",
       "  \"/>\n",
       "<polyline clip-path=\"url(#clip4100)\" style=\"stroke:#000000; stroke-width:4; stroke-opacity:1; fill:none\" points=\"\n",
       "  939.963,1487.47 939.963,1470.19 \n",
       "  \"/>\n",
       "<polyline clip-path=\"url(#clip4100)\" style=\"stroke:#000000; stroke-width:4; stroke-opacity:1; fill:none\" points=\"\n",
       "  1318.1,1487.47 1318.1,1470.19 \n",
       "  \"/>\n",
       "<polyline clip-path=\"url(#clip4100)\" style=\"stroke:#000000; stroke-width:4; stroke-opacity:1; fill:none\" points=\"\n",
       "  1696.23,1487.47 1696.23,1470.19 \n",
       "  \"/>\n",
       "<polyline clip-path=\"url(#clip4100)\" style=\"stroke:#000000; stroke-width:4; stroke-opacity:1; fill:none\" points=\"\n",
       "  153.898,1487.47 172.945,1487.47 \n",
       "  \"/>\n",
       "<polyline clip-path=\"url(#clip4100)\" style=\"stroke:#000000; stroke-width:4; stroke-opacity:1; fill:none\" points=\"\n",
       "  153.898,1199.43 172.945,1199.43 \n",
       "  \"/>\n",
       "<polyline clip-path=\"url(#clip4100)\" style=\"stroke:#000000; stroke-width:4; stroke-opacity:1; fill:none\" points=\"\n",
       "  153.898,911.382 172.945,911.382 \n",
       "  \"/>\n",
       "<polyline clip-path=\"url(#clip4100)\" style=\"stroke:#000000; stroke-width:4; stroke-opacity:1; fill:none\" points=\"\n",
       "  153.898,623.336 172.945,623.336 \n",
       "  \"/>\n",
       "<polyline clip-path=\"url(#clip4100)\" style=\"stroke:#000000; stroke-width:4; stroke-opacity:1; fill:none\" points=\"\n",
       "  153.898,335.29 172.945,335.29 \n",
       "  \"/>\n",
       "<polyline clip-path=\"url(#clip4100)\" style=\"stroke:#000000; stroke-width:4; stroke-opacity:1; fill:none\" points=\"\n",
       "  153.898,47.2441 172.945,47.2441 \n",
       "  \"/>\n",
       "<g clip-path=\"url(#clip4100)\">\n",
       "<text style=\"fill:#000000; fill-opacity:1; font-family:Arial,Helvetica Neue,Helvetica,sans-serif; font-size:48px; text-anchor:middle;\" transform=\"rotate(0, 183.695, 1541.47)\" x=\"183.695\" y=\"1541.47\">0</text>\n",
       "</g>\n",
       "<g clip-path=\"url(#clip4100)\">\n",
       "<text style=\"fill:#000000; fill-opacity:1; font-family:Arial,Helvetica Neue,Helvetica,sans-serif; font-size:48px; text-anchor:middle;\" transform=\"rotate(0, 561.829, 1541.47)\" x=\"561.829\" y=\"1541.47\">25</text>\n",
       "</g>\n",
       "<g clip-path=\"url(#clip4100)\">\n",
       "<text style=\"fill:#000000; fill-opacity:1; font-family:Arial,Helvetica Neue,Helvetica,sans-serif; font-size:48px; text-anchor:middle;\" transform=\"rotate(0, 939.963, 1541.47)\" x=\"939.963\" y=\"1541.47\">50</text>\n",
       "</g>\n",
       "<g clip-path=\"url(#clip4100)\">\n",
       "<text style=\"fill:#000000; fill-opacity:1; font-family:Arial,Helvetica Neue,Helvetica,sans-serif; font-size:48px; text-anchor:middle;\" transform=\"rotate(0, 1318.1, 1541.47)\" x=\"1318.1\" y=\"1541.47\">75</text>\n",
       "</g>\n",
       "<g clip-path=\"url(#clip4100)\">\n",
       "<text style=\"fill:#000000; fill-opacity:1; font-family:Arial,Helvetica Neue,Helvetica,sans-serif; font-size:48px; text-anchor:middle;\" transform=\"rotate(0, 1696.23, 1541.47)\" x=\"1696.23\" y=\"1541.47\">100</text>\n",
       "</g>\n",
       "<g clip-path=\"url(#clip4100)\">\n",
       "<text style=\"fill:#000000; fill-opacity:1; font-family:Arial,Helvetica Neue,Helvetica,sans-serif; font-size:48px; text-anchor:end;\" transform=\"rotate(0, 129.898, 1504.97)\" x=\"129.898\" y=\"1504.97\">0.0</text>\n",
       "</g>\n",
       "<g clip-path=\"url(#clip4100)\">\n",
       "<text style=\"fill:#000000; fill-opacity:1; font-family:Arial,Helvetica Neue,Helvetica,sans-serif; font-size:48px; text-anchor:end;\" transform=\"rotate(0, 129.898, 1216.93)\" x=\"129.898\" y=\"1216.93\">0.2</text>\n",
       "</g>\n",
       "<g clip-path=\"url(#clip4100)\">\n",
       "<text style=\"fill:#000000; fill-opacity:1; font-family:Arial,Helvetica Neue,Helvetica,sans-serif; font-size:48px; text-anchor:end;\" transform=\"rotate(0, 129.898, 928.882)\" x=\"129.898\" y=\"928.882\">0.4</text>\n",
       "</g>\n",
       "<g clip-path=\"url(#clip4100)\">\n",
       "<text style=\"fill:#000000; fill-opacity:1; font-family:Arial,Helvetica Neue,Helvetica,sans-serif; font-size:48px; text-anchor:end;\" transform=\"rotate(0, 129.898, 640.836)\" x=\"129.898\" y=\"640.836\">0.6</text>\n",
       "</g>\n",
       "<g clip-path=\"url(#clip4100)\">\n",
       "<text style=\"fill:#000000; fill-opacity:1; font-family:Arial,Helvetica Neue,Helvetica,sans-serif; font-size:48px; text-anchor:end;\" transform=\"rotate(0, 129.898, 352.79)\" x=\"129.898\" y=\"352.79\">0.8</text>\n",
       "</g>\n",
       "<g clip-path=\"url(#clip4100)\">\n",
       "<text style=\"fill:#000000; fill-opacity:1; font-family:Arial,Helvetica Neue,Helvetica,sans-serif; font-size:48px; text-anchor:end;\" transform=\"rotate(0, 129.898, 64.7441)\" x=\"129.898\" y=\"64.7441\">1.0</text>\n",
       "</g>\n",
       "<polyline clip-path=\"url(#clip4102)\" style=\"stroke:#009af9; stroke-width:4; stroke-opacity:1; fill:none\" points=\"\n",
       "  198.82,1430.59 213.946,47.9642 229.071,47.2441 244.196,47.9642 259.322,48.6843 274.447,49.4044 289.572,51.5648 304.698,53.7251 319.823,55.1654 334.949,64.5269 \n",
       "  350.074,71.0079 365.199,82.5297 380.325,109.894 395.45,110.614 410.575,161.742 425.701,196.308 440.826,227.993 455.951,308.646 471.077,351.853 486.202,404.421 \n",
       "  501.327,440.427 516.453,486.514 531.578,503.077 546.704,535.482 561.829,571.488 576.954,616.135 592.08,640.619 607.205,678.785 622.33,710.47 637.456,745.756 \n",
       "  652.581,786.803 667.706,806.966 682.832,830.009 697.957,886.178 713.082,913.543 728.208,929.385 743.333,955.31 758.459,975.473 773.584,1002.84 788.709,1033.08 \n",
       "  803.835,1053.97 818.96,1054.69 834.085,1015.08 849.211,1014.36 864.336,991.315 879.461,979.073 894.587,953.149 909.712,930.105 924.837,904.181 939.963,864.575 \n",
       "  955.088,869.616 970.214,824.249 985.339,819.208 1000.46,795.444 1015.59,739.275 1030.71,716.231 1045.84,660.782 1060.97,631.258 1076.09,565.727 1091.22,582.29 \n",
       "  1106.34,534.762 1121.47,527.561 1136.59,507.398 1151.72,516.759 1166.84,505.237 1181.97,452.669 1197.09,471.392 1212.22,436.106 1227.34,457.71 1242.47,416.663 \n",
       "  1257.6,424.585 1272.72,402.261 1287.85,392.899 1302.97,361.214 1318.1,330.97 1333.22,314.407 1348.35,327.369 1363.47,279.841 1378.6,254.637 1393.72,251.037 \n",
       "  1408.85,146.62 1423.97,153.101 1439.1,144.46 1454.22,148.06 1469.35,145.9 1484.48,138.699 1499.6,145.18 1514.73,157.422 1529.85,153.101 1544.98,197.748 \n",
       "  1560.1,221.512 1575.23,244.556 1590.35,266.159 1605.48,289.203 1620.6,288.483 1635.73,359.774 1650.85,370.576 1665.98,399.38 1681.11,447.628 1696.23,436.826 \n",
       "  \n",
       "  \"/>\n",
       "<polyline clip-path=\"url(#clip4102)\" style=\"stroke:#e26f46; stroke-width:4; stroke-opacity:1; fill:none\" points=\"\n",
       "  198.82,1430.59 213.946,47.2441 229.071,47.2441 244.196,48.6843 259.322,50.8447 274.447,52.2849 289.572,50.1246 304.698,54.4452 319.823,61.6464 334.949,65.247 \n",
       "  350.074,72.4481 365.199,82.5297 380.325,81.0895 395.45,80.3694 410.575,99.8125 425.701,105.573 440.826,120.696 455.951,128.617 471.077,117.095 486.202,112.775 \n",
       "  501.327,107.734 516.453,104.133 531.578,126.457 546.704,122.856 561.829,150.221 576.954,136.538 592.08,133.658 607.205,150.221 622.33,152.381 637.456,173.264 \n",
       "  652.581,148.78 667.706,148.06 682.832,153.101 697.957,158.142 713.082,166.783 728.208,159.582 743.333,135.098 758.459,146.62 773.584,128.617 788.709,113.495 \n",
       "  803.835,104.853 818.96,125.737 834.085,136.538 849.211,154.541 864.336,155.261 879.461,175.425 894.587,178.305 909.712,175.425 924.837,164.623 939.963,189.107 \n",
       "  955.088,204.229 970.214,195.588 985.339,187.667 1000.46,207.11 1015.59,183.346 1030.71,191.267 1045.84,178.305 1060.97,181.186 1076.09,177.585 1091.22,171.104 \n",
       "  1106.34,175.425 1121.47,181.906 1136.59,220.072 1151.72,242.395 1166.84,275.521 1181.97,287.763 1197.09,279.841 1212.22,309.366 1227.34,335.29 1242.47,355.453 \n",
       "  1257.6,384.258 1272.72,390.739 1287.85,400.101 1302.97,395.78 1318.1,364.815 1333.22,372.016 1348.35,410.902 1363.47,373.456 1378.6,341.051 1393.72,336.01 \n",
       "  1408.85,96.9321 1423.97,92.6114 1439.1,102.693 1454.22,113.495 1469.35,117.095 1484.48,119.256 1499.6,130.777 1514.73,141.579 1529.85,145.9 1544.98,143.019 \n",
       "  1560.1,161.022 1575.23,163.903 1590.35,171.824 1605.48,191.987 1620.6,189.827 1635.73,194.868 1650.85,199.188 1665.98,203.509 1681.11,240.955 1696.23,234.474 \n",
       "  \n",
       "  \"/>\n",
       "<path clip-path=\"url(#clip4100)\" d=\"\n",
       "M1813.15 312.204 L2376.76 312.204 L2376.76 130.764 L1813.15 130.764  Z\n",
       "  \" fill=\"#ffffff\" fill-rule=\"evenodd\" fill-opacity=\"1\"/>\n",
       "<polyline clip-path=\"url(#clip4100)\" style=\"stroke:#000000; stroke-width:4; stroke-opacity:1; fill:none\" points=\"\n",
       "  1813.15,312.204 2376.76,312.204 2376.76,130.764 1813.15,130.764 1813.15,312.204 \n",
       "  \"/>\n",
       "<polyline clip-path=\"url(#clip4100)\" style=\"stroke:#009af9; stroke-width:4; stroke-opacity:1; fill:none\" points=\"\n",
       "  1837.15,191.244 1981.15,191.244 \n",
       "  \"/>\n",
       "<g clip-path=\"url(#clip4100)\">\n",
       "<text style=\"fill:#000000; fill-opacity:1; font-family:Arial,Helvetica Neue,Helvetica,sans-serif; font-size:48px; text-anchor:start;\" transform=\"rotate(0, 2005.15, 208.744)\" x=\"2005.15\" y=\"208.744\">Static-KNN</text>\n",
       "</g>\n",
       "<polyline clip-path=\"url(#clip4100)\" style=\"stroke:#e26f46; stroke-width:4; stroke-opacity:1; fill:none\" points=\"\n",
       "  1837.15,251.724 1981.15,251.724 \n",
       "  \"/>\n",
       "<g clip-path=\"url(#clip4100)\">\n",
       "<text style=\"fill:#000000; fill-opacity:1; font-family:Arial,Helvetica Neue,Helvetica,sans-serif; font-size:48px; text-anchor:start;\" transform=\"rotate(0, 2005.15, 269.224)\" x=\"2005.15\" y=\"269.224\">MClassification</text>\n",
       "</g>\n",
       "</svg>\n"
      ]
     },
     "execution_count": 86,
     "metadata": {},
     "output_type": "execute_result"
    }
   ],
   "source": [
    "plot(hates, ylims = (0, 1), labels = permutedims([\"Static-KNN\", \"MClassification\"]), legend=:outertopright)"
   ]
  }
 ],
 "metadata": {
  "kernelspec": {
   "display_name": "Julia 1.4.0",
   "language": "julia",
   "name": "julia-1.4"
  },
  "language_info": {
   "file_extension": ".jl",
   "mimetype": "application/julia",
   "name": "julia",
   "version": "1.4.0"
  }
 },
 "nbformat": 4,
 "nbformat_minor": 2
}
