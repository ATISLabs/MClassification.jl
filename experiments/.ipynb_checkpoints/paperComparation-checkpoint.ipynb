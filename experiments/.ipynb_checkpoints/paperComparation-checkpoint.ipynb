{
 "cells": [
  {
   "cell_type": "code",
   "execution_count": 18,
   "metadata": {},
   "outputs": [
    {
     "name": "stderr",
     "output_type": "stream",
     "text": [
      "┌ Info: Precompiling DataFrames [a93c6f00-e57d-5684-b7b6-d8193f3e46c0]\n",
      "└ @ Base loading.jl:1260\n",
      "\u001b[32m\u001b[1m Activating\u001b[22m\u001b[39m environment at `~/Codes/MClassification/juliadev/Project.toml`\n"
     ]
    },
    {
     "data": {
      "text/plain": [
       "MClassifier_merge_mc (generic function with 1 method)"
      ]
     },
     "execution_count": 18,
     "metadata": {},
     "output_type": "execute_result"
    }
   ],
   "source": [
    "###Importing dependencies\n",
    "using Pkg, DataFrames\n",
    "Pkg.activate(\"../juliadev/\")\n",
    "include(\"../src/mclassifier.jl\")"
   ]
  },
  {
   "cell_type": "code",
   "execution_count": 19,
   "metadata": {},
   "outputs": [
    {
     "data": {
      "text/plain": [
       "17-element Array{SubString{String},1}:\n",
       " \"1CDT.txt\"\n",
       " \"1CHT.txt\"\n",
       " \"1CSurr.txt\"\n",
       " \"2CDT.txt\"\n",
       " \"2CHT.txt\"\n",
       " \"4CE1CF.txt\"\n",
       " \"4CRE-V1.txt\"\n",
       " \"4CRE-V2.txt\"\n",
       " \"4CR.txt\"\n",
       " \"5CVT.txt\"\n",
       " \"FG_2C_2D.txt\"\n",
       " \"GEARS_2C_2D.txt\"\n",
       " \"MG_2C_2D.txt\"\n",
       " \"UG_2C_2D.txt\"\n",
       " \"UG_2C_3D.txt\"\n",
       " \"UG_2C_5D.txt\"\n",
       " \"\""
      ]
     },
     "execution_count": 19,
     "metadata": {},
     "output_type": "execute_result"
    }
   ],
   "source": [
    "###Setting path of the datasets and getting their names\n",
    "path = \"../datasets/sinthetic/\"\n",
    "datasets = split(read(`ls $path`, String), \"\\n\")\n"
   ]
  },
  {
   "cell_type": "code",
   "execution_count": 32,
   "metadata": {},
   "outputs": [
    {
     "name": "stdout",
     "output_type": "stream",
     "text": [
      "10×4 DataFrame\n",
      "│ Row │ dataset     │ n_initial_instances │ n_samples │ accuracy │\n",
      "│     │ \u001b[90mSubStrin…\u001b[39m   │ \u001b[90mInt64\u001b[39m               │ \u001b[90mInt64\u001b[39m     │ \u001b[90mFloat64\u001b[39m  │\n",
      "├─────┼─────────────┼─────────────────────┼───────────┼──────────┤\n",
      "│ 1   │ 1CDT.txt    │ 150                 │ 15850     │ 0.99     │\n",
      "│ 2   │ 1CHT.txt    │ 150                 │ 15850     │ 0.99     │\n",
      "│ 3   │ 1CSurr.txt  │ 150                 │ 55133     │ 0.79     │\n",
      "│ 4   │ 2CDT.txt    │ 150                 │ 15850     │ 0.94     │\n",
      "│ 5   │ 2CHT.txt    │ 150                 │ 15850     │ 0.87     │\n",
      "│ 6   │ 4CE1CF.txt  │ 150                 │ 173100    │ 0.95     │\n",
      "│ 7   │ 4CRE-V1.txt │ 150                 │ 124850    │ 0.96     │\n",
      "│ 8   │ 4CRE-V2.txt │ 150                 │ 182850    │ 0.88     │\n",
      "│ 9   │ 4CR.txt     │ 150                 │ 144250    │ 0.97     │\n",
      "│ 10  │ 5CVT.txt    │ 150                 │ 23850     │ 0.84     │\n"
     ]
    }
   ],
   "source": [
    "dataset_results = DataFrame()\n",
    "\n",
    "for dataset in datasets[1:10]\n",
    "    n_instances = 0\n",
    "    hits = 0\n",
    "    misses = 0\n",
    "    \n",
    "    classifier = MClassifier(0.1)\n",
    "    classifier.n_features = 2\n",
    "\n",
    "    dataset_file = open(path * dataset , \"r\")\n",
    "    MClassifier_initialize(classifier, dataset_file, 150)\n",
    "\n",
    "    while true\n",
    "        new_instance = zeros(Float64, classifier.n_features)\n",
    "        rel1 = load_instance(dataset_file, 2, new_instance)\n",
    "        if rel1 == \"\"\n",
    "            break\n",
    "        end\n",
    "        n_instances += 1\n",
    "        rel2 = MClassifier_predict(classifier, new_instance)\n",
    "        if rel1 == rel2\n",
    "            hits += 1\n",
    "        else\n",
    "            misses += 1\n",
    "        end\n",
    "    end\n",
    "\n",
    "    x = hits / n_instances\n",
    "    \n",
    "    dataset_result = DataFrame(dataset =  dataset, n_initial_instances = 150 ,n_samples = n_instances, accuracy = round(x, digits=2, RoundDown))\n",
    "    append!(dataset_results, dataset_result)\n",
    "end\n",
    "\n",
    "println(dataset_results)\n"
   ]
  },
  {
   "cell_type": "code",
   "execution_count": null,
   "metadata": {},
   "outputs": [],
   "source": []
  }
 ],
 "metadata": {
  "kernelspec": {
   "display_name": "Julia 1.4.0",
   "language": "julia",
   "name": "julia-1.4"
  },
  "language_info": {
   "file_extension": ".jl",
   "mimetype": "application/julia",
   "name": "julia",
   "version": "1.4.0"
  }
 },
 "nbformat": 4,
 "nbformat_minor": 2
}
